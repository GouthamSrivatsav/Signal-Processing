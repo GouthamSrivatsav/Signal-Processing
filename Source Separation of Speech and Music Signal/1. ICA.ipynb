{
 "cells": [
  {
   "cell_type": "code",
   "execution_count": 19,
   "metadata": {
    "collapsed": true
   },
   "outputs": [],
   "source": [
    "import librosa\n",
    "import math\n",
    "import matplotlib.pyplot as plt\n",
    "import numpy as np"
   ]
  },
  {
   "cell_type": "code",
   "execution_count": 20,
   "metadata": {
    "collapsed": true
   },
   "outputs": [],
   "source": [
    "x = []\n",
    "for i in range(20):    \n",
    "    s, sr = librosa.load('x_ica_'+str(i+1)+'.wav', sr=None)\n",
    "    x.append(s)"
   ]
  },
  {
   "cell_type": "code",
   "execution_count": 21,
   "metadata": {
    "collapsed": true
   },
   "outputs": [],
   "source": [
    "x = np.asmatrix(x)"
   ]
  },
  {
   "cell_type": "code",
   "execution_count": 22,
   "metadata": {},
   "outputs": [
    {
     "data": {
      "text/plain": [
       "matrix([[ 0.00097656, -0.03457642],\n",
       "        [ 0.00128174, -0.02944946]], dtype=float32)"
      ]
     },
     "execution_count": 22,
     "metadata": {},
     "output_type": "execute_result"
    }
   ],
   "source": [
    "x[:2,:2]\n"
   ]
  },
  {
   "cell_type": "code",
   "execution_count": 23,
   "metadata": {
    "collapsed": true
   },
   "outputs": [],
   "source": [
    "cov_mat = np.cov(x)\n",
    "eig_val, eig_vec = np.linalg.eig(cov_mat)"
   ]
  },
  {
   "cell_type": "code",
   "execution_count": 24,
   "metadata": {},
   "outputs": [
    {
     "data": {
      "text/plain": [
       "(20,)"
      ]
     },
     "execution_count": 24,
     "metadata": {},
     "output_type": "execute_result"
    }
   ],
   "source": [
    "eig_val.shape"
   ]
  },
  {
   "cell_type": "code",
   "execution_count": 25,
   "metadata": {
    "scrolled": true
   },
   "outputs": [
    {
     "data": {
      "text/plain": [
       "array([1.90443363e-01, 3.01367369e-02, 1.31554223e-02, 5.70160938e-03,\n",
       "       7.57145485e-11, 7.59379785e-11, 7.93353721e-11, 7.63222590e-11,\n",
       "       7.65418571e-11, 7.91242750e-11, 7.68671125e-11, 7.86620377e-11,\n",
       "       7.85670584e-11, 7.84351361e-11, 7.83073562e-11, 7.80264623e-11,\n",
       "       7.71022991e-11, 7.72917366e-11, 7.74497934e-11, 7.76385710e-11])"
      ]
     },
     "execution_count": 25,
     "metadata": {},
     "output_type": "execute_result"
    }
   ],
   "source": [
    "eig_val"
   ]
  },
  {
   "cell_type": "markdown",
   "metadata": {},
   "source": [
    "The eigen values from 5th one are all of the order e-11, so we consider first four eigen values/vectore"
   ]
  },
  {
   "cell_type": "code",
   "execution_count": 26,
   "metadata": {
    "collapsed": true
   },
   "outputs": [],
   "source": [
    "eig_vec_white = []\n",
    "for i in range(4):\n",
    "    eig_vec_white.append(eig_vec[i]/math.sqrt(eig_val[i]))\n",
    "    #eig_vec[:,i] /= np.sqrt(eig_val[i])"
   ]
  },
  {
   "cell_type": "code",
   "execution_count": 27,
   "metadata": {},
   "outputs": [],
   "source": [
    "Z = np.matmul(eig_vec_white, x)"
   ]
  },
  {
   "cell_type": "code",
   "execution_count": 28,
   "metadata": {},
   "outputs": [
    {
     "data": {
      "text/plain": [
       "matrix([[-6.49201465e-03,  1.51044133e-01,  4.75517810e-02,\n",
       "          3.56846790e-01],\n",
       "        [ 8.99606215e-03, -1.15291675e-01,  2.16100197e-01,\n",
       "          1.81991451e-01],\n",
       "        [-5.76683209e-02,  1.00146824e+00, -5.93983237e-01,\n",
       "          7.28591184e-01],\n",
       "        [ 3.01175525e-04,  3.22325160e-02,  1.17296680e-01,\n",
       "          2.69193759e-01]])"
      ]
     },
     "execution_count": 28,
     "metadata": {},
     "output_type": "execute_result"
    }
   ],
   "source": [
    "Z[:4, :4]"
   ]
  },
  {
   "cell_type": "code",
   "execution_count": null,
   "metadata": {
    "collapsed": true
   },
   "outputs": [],
   "source": []
  },
  {
   "cell_type": "code",
   "execution_count": 29,
   "metadata": {},
   "outputs": [
    {
     "data": {
      "text/plain": [
       "(20, 76800)"
      ]
     },
     "execution_count": 29,
     "metadata": {},
     "output_type": "execute_result"
    }
   ],
   "source": [
    "x.shape"
   ]
  },
  {
   "cell_type": "code",
   "execution_count": 30,
   "metadata": {},
   "outputs": [],
   "source": [
    "W = np.random.rand(4,4)\n",
    "Y = np.matmul(W,Z)\n",
    "L = 0.0000001"
   ]
  },
  {
   "cell_type": "code",
   "execution_count": 31,
   "metadata": {},
   "outputs": [
    {
     "data": {
      "text/plain": [
       "(4, 76800)"
      ]
     },
     "execution_count": 31,
     "metadata": {},
     "output_type": "execute_result"
    }
   ],
   "source": [
    "np.tanh(Y).shape"
   ]
  },
  {
   "cell_type": "code",
   "execution_count": 32,
   "metadata": {},
   "outputs": [],
   "source": [
    "for i in range(1600):\n",
    "    delta_W = np.matmul((x.shape[1]*np.identity(4) - np.matmul(np.tanh(Y) ,np.power(Y,3).T)),W)\n",
    "    W = W + L*delta_W\n",
    "    Y = np.matmul(W,Z)\n",
    "    "
   ]
  },
  {
   "cell_type": "code",
   "execution_count": 33,
   "metadata": {
    "collapsed": true
   },
   "outputs": [],
   "source": [
    "Y = np.array(Y)"
   ]
  },
  {
   "cell_type": "code",
   "execution_count": 34,
   "metadata": {},
   "outputs": [
    {
     "data": {
      "text/plain": [
       "(4, 76800)"
      ]
     },
     "execution_count": 34,
     "metadata": {},
     "output_type": "execute_result"
    }
   ],
   "source": [
    "Y.shape"
   ]
  },
  {
   "cell_type": "code",
   "execution_count": 35,
   "metadata": {},
   "outputs": [
    {
     "data": {
      "text/plain": [
       "array([[ 3.25869804e-02, -4.04944113e-01,  8.16536493e-01, ...,\n",
       "        -4.71102266e-01, -4.38916171e-01, -5.46814328e-01],\n",
       "       [-7.43867984e-04,  2.99275040e-02,  4.06032366e-02, ...,\n",
       "         4.71747386e-01,  4.05818943e-01,  4.01706366e-01],\n",
       "       [-8.22965562e-03,  2.75100822e-01,  3.09814968e-01, ...,\n",
       "        -3.60109037e-01, -3.01723409e-01, -2.32752423e-01],\n",
       "       [-9.32675798e-04,  1.80808315e-03, -4.78600403e-02, ...,\n",
       "        -2.74662397e-01, -3.62182107e-01, -4.33703587e-01]])"
      ]
     },
     "execution_count": 35,
     "metadata": {},
     "output_type": "execute_result"
    }
   ],
   "source": [
    "Y"
   ]
  },
  {
   "cell_type": "code",
   "execution_count": 36,
   "metadata": {},
   "outputs": [],
   "source": [
    "for i in range(4):\n",
    "    librosa.output.write_wav('x1_prob'+str(i+1)+'.wav',Y[i],  sr)"
   ]
  },
  {
   "cell_type": "code",
   "execution_count": null,
   "metadata": {
    "collapsed": true
   },
   "outputs": [],
   "source": []
  },
  {
   "cell_type": "code",
   "execution_count": null,
   "metadata": {
    "collapsed": true
   },
   "outputs": [],
   "source": []
  }
 ],
 "metadata": {
  "kernelspec": {
   "display_name": "py36",
   "language": "python",
   "name": "py36"
  },
  "language_info": {
   "codemirror_mode": {
    "name": "ipython",
    "version": 2
   },
   "file_extension": ".py",
   "mimetype": "text/x-python",
   "name": "python",
   "nbconvert_exporter": "python",
   "pygments_lexer": "ipython2",
   "version": "2.7.14"
  }
 },
 "nbformat": 4,
 "nbformat_minor": 2
}
