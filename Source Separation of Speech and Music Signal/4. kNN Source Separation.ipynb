{
 "cells": [
  {
   "cell_type": "code",
   "execution_count": 1,
   "metadata": {
    "collapsed": true
   },
   "outputs": [],
   "source": [
    "import librosa\n",
    "import math\n",
    "import matplotlib.pyplot as plt\n",
    "from scipy.spatial.distance import hamming as h\n",
    "import numpy as np"
   ]
  },
  {
   "cell_type": "markdown",
   "metadata": {},
   "source": [
    "### Reading .wav files "
   ]
  },
  {
   "cell_type": "code",
   "execution_count": 2,
   "metadata": {
    "collapsed": true
   },
   "outputs": [],
   "source": [
    "src, sr1 = librosa.load('trs.wav', sr = None)\n",
    "noise, sr2 = librosa.load('trn.wav', sr = None)\n",
    "x_nmf, sr3 = librosa.load('x_nmf.wav', sr = None)"
   ]
  },
  {
   "cell_type": "code",
   "execution_count": 3,
   "metadata": {
    "collapsed": true
   },
   "outputs": [],
   "source": [
    "def STFT(x,N,hop) :\n",
    "    F = np.zeros((N,N),dtype=np.complex_)\n",
    "    for i in range(N):\n",
    "        for j in range(N):\n",
    "            F[i,j] = np.exp(-1j*2*math.pi*i*j/N )\n",
    "    frames = (len(x)-hop)/hop\n",
    "    X = np.zeros((N,frames))\n",
    "    for i in range(frames):\n",
    "        X[:,i] = x[i*hop:i*hop+N] * np.hanning(N)    \n",
    "    Y = np.matmul(F,X)\n",
    "    return Y    "
   ]
  },
  {
   "cell_type": "markdown",
   "metadata": {},
   "source": [
    "### ISTFT Function"
   ]
  },
  {
   "cell_type": "code",
   "execution_count": 4,
   "metadata": {
    "collapsed": true
   },
   "outputs": [],
   "source": [
    "def ISTFT(X,N,hop,len_signal):\n",
    "    S_hat_full = np.zeros((1024,129), dtype=np.complex_)\n",
    "    for i in range(0,513):\n",
    "        S_hat_full[i,:] = X[i,:]\n",
    "    for i in range(513,1024):\n",
    "        S_hat_full[i,:] = np.conj(X[511-(i-513),:])\n",
    "    frames = X.shape[1]\n",
    "    inverse_F = np.zeros((N,N),dtype=np.complex_)\n",
    "    for i in range(N):\n",
    "        for j in range(N):\n",
    "            inverse_F[i,j] = np.exp(1j*2*math.pi*i*j/N )/N\n",
    "    X_inv = np.matmul(inverse_F,S_hat_full)\n",
    "    X_inv = np.real(X_inv)\n",
    "    x_inv = np.zeros(shape=(frames, len_signal),dtype=np.complex_)\n",
    "    for i in range(frames):\n",
    "        x_inv[i, (hop * i):(hop* i) + 1024] = X_inv[:, i]\n",
    "    x_inv = x_inv.sum(axis=0)\n",
    "    return x_inv.real"
   ]
  },
  {
   "cell_type": "code",
   "execution_count": 5,
   "metadata": {
    "collapsed": true
   },
   "outputs": [],
   "source": [
    "S = abs(STFT(src, 1024, 512)[0:513,:])\n",
    "N = abs(STFT(noise, 1024, 512)[0:513,:])\n",
    "G = abs(STFT(src+noise, 1024, 512)[0:513,:])\n",
    "X = STFT(x_nmf,1024,512)[0:513,:]\n",
    "Y = abs(X)"
   ]
  },
  {
   "cell_type": "code",
   "execution_count": 6,
   "metadata": {
    "collapsed": true
   },
   "outputs": [],
   "source": [
    "B = np.zeros((513,987))\n",
    "for i in range(513):\n",
    "    for j in range(987):\n",
    "        if S[i][j] > N[i][j]:\n",
    "            B[i][j] = 1\n",
    "        else:\n",
    "            B[i][j] = 0"
   ]
  },
  {
   "cell_type": "code",
   "execution_count": 7,
   "metadata": {
    "collapsed": true
   },
   "outputs": [],
   "source": [
    "def KNN(K,G,Y) :\n",
    "    D = np.zeros((513,129))\n",
    "    for i in range(129):\n",
    "        distance = []\n",
    "        for j in range(987):\n",
    "            distance.append((np.linalg.norm(Y[:,i]-G[:,j]),j))\n",
    "        distance = sorted(distance, key = lambda x:x[0])\n",
    "        indices = [d[1] for d in distance[0:K]]\n",
    "        #print(distance[0:K])\n",
    "        #print(indices)\n",
    "        #break\n",
    "        D[:,i] = np.median(np.array([B[:,j] for j in indices]),axis = 0)\n",
    "    return D "
   ]
  },
  {
   "cell_type": "code",
   "execution_count": 8,
   "metadata": {},
   "outputs": [],
   "source": [
    "D = KNN(5,G,Y)"
   ]
  },
  {
   "cell_type": "code",
   "execution_count": 9,
   "metadata": {},
   "outputs": [
    {
     "data": {
      "text/plain": [
       "(513, 129)"
      ]
     },
     "execution_count": 9,
     "metadata": {},
     "output_type": "execute_result"
    }
   ],
   "source": [
    "D.shape"
   ]
  },
  {
   "cell_type": "code",
   "execution_count": 10,
   "metadata": {
    "collapsed": true
   },
   "outputs": [],
   "source": [
    "S_hat = np.multiply(D,X)"
   ]
  },
  {
   "cell_type": "code",
   "execution_count": 11,
   "metadata": {
    "collapsed": true
   },
   "outputs": [],
   "source": [
    "def ISTFT(X,N,hop,len_signal):\n",
    "    S_hat_full = np.zeros((1024,129), dtype=np.complex_)\n",
    "    for i in range(0,513):\n",
    "        S_hat_full[i,:] = X[i,:]\n",
    "    for i in range(513,1024):\n",
    "        S_hat_full[i,:] = np.conj(X[511-(i-513),:])\n",
    "    frames = X.shape[1]\n",
    "    inverse_F = np.zeros((N,N),dtype=np.complex_)\n",
    "    for i in range(N):\n",
    "        for j in range(N):\n",
    "            inverse_F[i,j] = np.exp(1j*2*math.pi*i*j/N )/N\n",
    "    X_inv = np.matmul(inverse_F,S_hat_full)\n",
    "    X_inv = np.real(X_inv)\n",
    "    x_inv = np.zeros(shape=(frames, len_signal),dtype=np.complex_)\n",
    "    for i in range(frames):\n",
    "        x_inv[i, (hop * i):(hop* i) + 1024] = X_inv[:, i]\n",
    "    x_inv = x_inv.sum(axis=0)\n",
    "    return x_inv.real"
   ]
  },
  {
   "cell_type": "code",
   "execution_count": 12,
   "metadata": {
    "collapsed": true,
    "scrolled": true
   },
   "outputs": [],
   "source": [
    "x_clean = ISTFT(S_hat,1024,512, len(x_nmf))"
   ]
  },
  {
   "cell_type": "code",
   "execution_count": 13,
   "metadata": {
    "collapsed": true
   },
   "outputs": [],
   "source": [
    "librosa.output.write_wav('x_prob4.wav', x_clean, sr3)"
   ]
  }
 ],
 "metadata": {
  "kernelspec": {
   "display_name": "py36",
   "language": "python",
   "name": "py36"
  },
  "language_info": {
   "codemirror_mode": {
    "name": "ipython",
    "version": 2
   },
   "file_extension": ".py",
   "mimetype": "text/x-python",
   "name": "python",
   "nbconvert_exporter": "python",
   "pygments_lexer": "ipython2",
   "version": "2.7.14"
  }
 },
 "nbformat": 4,
 "nbformat_minor": 2
}
