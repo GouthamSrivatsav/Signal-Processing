{
 "cells": [
  {
   "cell_type": "code",
   "execution_count": 1,
   "metadata": {
    "collapsed": true
   },
   "outputs": [],
   "source": [
    "import librosa\n",
    "import math\n",
    "import matplotlib.pyplot as plt\n",
    "import numpy as np"
   ]
  },
  {
   "cell_type": "markdown",
   "metadata": {},
   "source": [
    "### Reading .wav files "
   ]
  },
  {
   "cell_type": "code",
   "execution_count": 2,
   "metadata": {
    "collapsed": true
   },
   "outputs": [],
   "source": [
    "src, sr1 = librosa.load('trs.wav', sr = None)\n",
    "noise, sr2 = librosa.load('trn.wav', sr = None)\n",
    "x_nmf, sr3 = librosa.load('x_nmf.wav', sr = None)"
   ]
  },
  {
   "cell_type": "markdown",
   "metadata": {},
   "source": [
    "### STFT Function"
   ]
  },
  {
   "cell_type": "code",
   "execution_count": 3,
   "metadata": {
    "collapsed": true
   },
   "outputs": [],
   "source": [
    "def STFT(x,N,hop) :\n",
    "    F = np.zeros((N,N),dtype=np.complex_)\n",
    "    for i in range(N):\n",
    "        for j in range(N):\n",
    "            F[i,j] = np.exp(-1j*2*math.pi*i*j/N )\n",
    "    frames = (len(x)-hop)/hop\n",
    "    X = np.zeros((N,frames))\n",
    "    for i in range(frames):\n",
    "        X[:,i] = x[i*hop:i*hop+N] * np.hanning(N)    \n",
    "    Y = np.matmul(F,X)\n",
    "    return Y    "
   ]
  },
  {
   "cell_type": "markdown",
   "metadata": {},
   "source": [
    "### ISTFT Function"
   ]
  },
  {
   "cell_type": "code",
   "execution_count": 4,
   "metadata": {
    "collapsed": true
   },
   "outputs": [],
   "source": [
    "def ISTFT(X,N,hop,len_signal):\n",
    "    frames = X.shape[1]\n",
    "    inverse_F = np.zeros((N,N),dtype=np.complex_)\n",
    "    for i in range(N):\n",
    "        for j in range(N):\n",
    "            inverse_F[i,j] = np.exp(1j*2*math.pi*i*j/N )/N\n",
    "    X_inv = np.matmul(inverse_F,X)\n",
    "    X_inv = np.real(X_inv)\n",
    "    x_inv = np.zeros(shape=(frames, len_signal),dtype=np.complex_)\n",
    "    for i in range(frames):\n",
    "        x_inv[i, (hop * i):(hop* i) + 1024] = X_inv[:, i]\n",
    "    x_inv = x_inv.sum(axis=0)\n",
    "    return x_inv.real"
   ]
  },
  {
   "cell_type": "markdown",
   "metadata": {},
   "source": [
    "### NMF Function"
   ]
  },
  {
   "cell_type": "code",
   "execution_count": 5,
   "metadata": {
    "collapsed": true
   },
   "outputs": [],
   "source": [
    "def NMF(X,L):\n",
    "    W = np.asmatrix(np.random.rand(513,L))\n",
    "    H = np.asmatrix(np.random.rand(L,987))\n",
    "    I = np.asmatrix(np.ones((X.shape[0],X.shape[1])))\n",
    "    for i in range(2000):\n",
    "        W = np.multiply(W,(X/(W*H+10**-14))*(H.T)/(I*H.T+10**-14))     \n",
    "        H = np.multiply(H, (W.T*(X/(W*H+10**-14)))/(W.T*I+10**-14))\n",
    "    return (W,H)"
   ]
  },
  {
   "cell_type": "markdown",
   "metadata": {},
   "source": [
    "### Getting magnitude matrix of STFT"
   ]
  },
  {
   "cell_type": "code",
   "execution_count": 6,
   "metadata": {
    "scrolled": true
   },
   "outputs": [
    {
     "data": {
      "text/plain": [
       "(513, 987)"
      ]
     },
     "execution_count": 6,
     "metadata": {},
     "output_type": "execute_result"
    }
   ],
   "source": [
    "src_stft = STFT(src, 1024, 512)\n",
    "src_stft_half = src_stft[0:513,:]\n",
    "src_stft_real = abs(src_stft_half)\n",
    "src_stft_real.shape"
   ]
  },
  {
   "cell_type": "code",
   "execution_count": 7,
   "metadata": {},
   "outputs": [
    {
     "data": {
      "text/plain": [
       "(513, 987)"
      ]
     },
     "execution_count": 7,
     "metadata": {},
     "output_type": "execute_result"
    }
   ],
   "source": [
    "noise_stft = STFT(noise, 1024, 512)\n",
    "noise_stft_half = noise_stft[0:513,:]\n",
    "noise_stft_real = abs(noise_stft_half)\n",
    "noise_stft_real.shape"
   ]
  },
  {
   "cell_type": "code",
   "execution_count": 8,
   "metadata": {},
   "outputs": [
    {
     "data": {
      "text/plain": [
       "(513, 129)"
      ]
     },
     "execution_count": 8,
     "metadata": {},
     "output_type": "execute_result"
    }
   ],
   "source": [
    "xnmf_stft = STFT(x_nmf, 1024, 512)\n",
    "xnmf_stft_half = xnmf_stft[0:513,:]\n",
    "xnmf_stft_real = abs(xnmf_stft_half)\n",
    "xnmf_stft_real.shape"
   ]
  },
  {
   "cell_type": "markdown",
   "metadata": {},
   "source": [
    "### NMF approximation"
   ]
  },
  {
   "cell_type": "code",
   "execution_count": 9,
   "metadata": {
    "collapsed": true
   },
   "outputs": [],
   "source": [
    "W_s,H_s = NMF(src_stft_real,30)\n",
    "W_n,H_n = NMF(noise_stft_real,30)"
   ]
  },
  {
   "cell_type": "code",
   "execution_count": 10,
   "metadata": {
    "collapsed": true
   },
   "outputs": [],
   "source": [
    "W_nmf = np.asmatrix(np.concatenate([W_s,W_n], axis = 1))\n",
    "H_nmf = np.asmatrix(np.random.rand(60,129))\n",
    "I = np.asmatrix(np.ones((xnmf_stft_real.shape[0],xnmf_stft_real.shape[1])))\n",
    "for i in range(2000):\n",
    "    H_nmf = np.multiply(H_nmf, (W_nmf.T*(xnmf_stft_real/(W_nmf*H_nmf+10**-14)))/(W_nmf.T*I+10**-14))"
   ]
  },
  {
   "cell_type": "code",
   "execution_count": 11,
   "metadata": {
    "collapsed": true
   },
   "outputs": [],
   "source": [
    "M = (W_s * H_nmf[0:30,:])/(W_nmf*H_nmf + 10**-14)"
   ]
  },
  {
   "cell_type": "code",
   "execution_count": 13,
   "metadata": {
    "collapsed": true
   },
   "outputs": [],
   "source": [
    "S_hat = np.multiply(M,xnmf_stft_half)"
   ]
  },
  {
   "cell_type": "code",
   "execution_count": 18,
   "metadata": {
    "collapsed": true
   },
   "outputs": [],
   "source": [
    "S_hat_full = np.zeros((1024,129), dtype=np.complex_)\n",
    "for i in range(0,513):\n",
    "    S_hat_full[i,:] = S_hat[i,:]\n",
    "for i in range(513,1024):\n",
    "    S_hat_full[i,:] = np.conj(S_hat[511-(i-513),:])"
   ]
  },
  {
   "cell_type": "code",
   "execution_count": 20,
   "metadata": {
    "collapsed": true,
    "scrolled": true
   },
   "outputs": [],
   "source": [
    "x_clean = ISTFT(S_hat_full,1024,512, len(x_nmf))"
   ]
  },
  {
   "cell_type": "code",
   "execution_count": 21,
   "metadata": {
    "collapsed": true
   },
   "outputs": [],
   "source": [
    "librosa.output.write_wav('x_clean.wav', x_clean, sr3)"
   ]
  },
  {
   "cell_type": "code",
   "execution_count": null,
   "metadata": {
    "collapsed": true
   },
   "outputs": [],
   "source": []
  }
 ],
 "metadata": {
  "kernelspec": {
   "display_name": "py36",
   "language": "python",
   "name": "py36"
  },
  "language_info": {
   "codemirror_mode": {
    "name": "ipython",
    "version": 2
   },
   "file_extension": ".py",
   "mimetype": "text/x-python",
   "name": "python",
   "nbconvert_exporter": "python",
   "pygments_lexer": "ipython2",
   "version": "2.7.14"
  }
 },
 "nbformat": 4,
 "nbformat_minor": 2
}
